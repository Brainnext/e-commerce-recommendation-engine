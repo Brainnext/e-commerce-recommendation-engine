{
  "nbformat": 4,
  "nbformat_minor": 0,
  "metadata": {
    "colab": {
      "provenance": [],
      "authorship_tag": "ABX9TyMvlrAtXDQlSCQ4GmKfkxt0",
      "include_colab_link": true
    },
    "kernelspec": {
      "name": "python3",
      "display_name": "Python 3"
    },
    "language_info": {
      "name": "python"
    }
  },
  "cells": [
    {
      "cell_type": "markdown",
      "metadata": {
        "id": "view-in-github",
        "colab_type": "text"
      },
      "source": [
        "<a href=\"https://colab.research.google.com/github/Brainnext/e-commerce-recommendation-engine/blob/main/E_commerce_Recommendation_model.ipynb\" target=\"_parent\"><img src=\"https://colab.research.google.com/assets/colab-badge.svg\" alt=\"Open In Colab\"/></a>"
      ]
    },
    {
      "cell_type": "markdown",
      "source": [
        "# E-commerce recommendation system"
      ],
      "metadata": {
        "id": "Bd8NJpodSNW3"
      }
    },
    {
      "cell_type": "markdown",
      "source": [
        "The main goal is to build a product recommendation engine that suggests items to customers based on their behavior, leading to increased sales and customer engagement. You'll be building a system that can be deployed within a company"
      ],
      "metadata": {
        "id": "gcwLKTg7SCek"
      }
    },
    {
      "cell_type": "markdown",
      "source": [
        "### Mounting my drive to be able to call the dataset from the rive directly from colab"
      ],
      "metadata": {
        "id": "JqFH92Y3SVuC"
      }
    },
    {
      "cell_type": "code",
      "execution_count": 1,
      "metadata": {
        "id": "EGbdq51BRst3",
        "colab": {
          "base_uri": "https://localhost:8080/"
        },
        "outputId": "6a05fc13-fc52-4a99-ea93-a42421986d42"
      },
      "outputs": [
        {
          "output_type": "stream",
          "name": "stdout",
          "text": [
            "Mounted at /content/drive\n"
          ]
        }
      ],
      "source": [
        "from google.colab import drive\n",
        "drive.mount('/content/drive')"
      ]
    },
    {
      "cell_type": "markdown",
      "source": [
        "### Unzipping the archive.zip files into appropraite folders for use."
      ],
      "metadata": {
        "id": "4GB7JbQi6IWK"
      }
    },
    {
      "cell_type": "code",
      "source": [
        "import os\n",
        "import zipfile\n",
        "\n",
        "# wanna unzip the zip file\n",
        "\n",
        "zip_path=\"/content/drive/MyDrive/Recommend/archive.zip\"\n",
        "extract_path=\"/content/drive/MyDrive/Recommend\"\n",
        "\n",
        "with zipfile.ZipFile(zip_path, 'r') as zip_ref:\n",
        "    zip_ref.extractall(extract_path)\n",
        "\n",
        "print (\"Files unzipped successfully\")\n",
        "print (\"Extracted files:\", os.listdir(extract_path))"
      ],
      "metadata": {
        "colab": {
          "base_uri": "https://localhost:8080/"
        },
        "id": "NUYomhJ-zxZP",
        "outputId": "fc06aeee-c179-4c62-9a51-c994d4519e6e"
      },
      "execution_count": 2,
      "outputs": [
        {
          "output_type": "stream",
          "name": "stdout",
          "text": [
            "Files unzipped successfully\n",
            "Exreacted files: ['archive.zip', 'aisles.csv', 'departments.csv', 'order_products__prior.csv', 'order_products__train.csv', 'orders.csv', 'products.csv']\n"
          ]
        }
      ]
    },
    {
      "cell_type": "markdown",
      "source": [
        "### Using pandas library to read the unzipped csv files"
      ],
      "metadata": {
        "id": "NTsw0i0h6QNX"
      }
    },
    {
      "cell_type": "code",
      "source": [
        "import pandas as pd\n",
        "\n",
        "# Loading the dataset\n",
        "\n",
        "aisles = pd.read_csv(os.path.join(extract_path, 'aisles.csv'))\n",
        "departments = pd.read_csv(os.path.join(extract_path, 'departments.csv'))\n",
        "order_products__prior = pd.read_csv(os.path.join(extract_path, 'order_products__prior.csv'))\n",
        "order_products__train = pd.read_csv(os.path.join(extract_path, 'order_products__train.csv'))\n",
        "orders = pd.read_csv(os.path.join(extract_path, 'orders.csv'))\n",
        "products = pd.read_csv(os.path.join(extract_path, 'products.csv'))\n"
      ],
      "metadata": {
        "id": "0ogagFoc46yg"
      },
      "execution_count": 10,
      "outputs": []
    },
    {
      "cell_type": "markdown",
      "source": [
        "### Displaying the first 5 elements in one of the csv files to know if it was successfully read."
      ],
      "metadata": {
        "id": "gzQP6Zzz6XIB"
      }
    },
    {
      "cell_type": "code",
      "source": [
        "print (products.head())"
      ],
      "metadata": {
        "colab": {
          "base_uri": "https://localhost:8080/"
        },
        "id": "RW3A8LTl53z_",
        "outputId": "6174e4b9-0fd3-4626-88a7-59491ee0d34b"
      },
      "execution_count": 14,
      "outputs": [
        {
          "output_type": "stream",
          "name": "stdout",
          "text": [
            "   product_id                                       product_name  aisle_id  \\\n",
            "0           1                         Chocolate Sandwich Cookies        61   \n",
            "1           2                                   All-Seasons Salt       104   \n",
            "2           3               Robust Golden Unsweetened Oolong Tea        94   \n",
            "3           4  Smart Ones Classic Favorites Mini Rigatoni Wit...        38   \n",
            "4           5                          Green Chile Anytime Sauce         5   \n",
            "\n",
            "   department_id  \n",
            "0             19  \n",
            "1             13  \n",
            "2              7  \n",
            "3              1  \n",
            "4             13  \n"
          ]
        }
      ]
    }
  ]
}