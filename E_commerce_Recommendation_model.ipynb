{
  "nbformat": 4,
  "nbformat_minor": 0,
  "metadata": {
    "colab": {
      "provenance": [],
      "authorship_tag": "ABX9TyMnlKWiMkdUsTTxc9kqTMM0",
      "include_colab_link": true
    },
    "kernelspec": {
      "name": "python3",
      "display_name": "Python 3"
    },
    "language_info": {
      "name": "python"
    }
  },
  "cells": [
    {
      "cell_type": "markdown",
      "metadata": {
        "id": "view-in-github",
        "colab_type": "text"
      },
      "source": [
        "<a href=\"https://colab.research.google.com/github/Brainnext/e-commerce-recommendation-engine/blob/main/E_commerce_Recommendation_model.ipynb\" target=\"_parent\"><img src=\"https://colab.research.google.com/assets/colab-badge.svg\" alt=\"Open In Colab\"/></a>"
      ]
    },
    {
      "cell_type": "markdown",
      "source": [
        "# E-commerce recommendation system"
      ],
      "metadata": {
        "id": "Bd8NJpodSNW3"
      }
    },
    {
      "cell_type": "markdown",
      "source": [
        "The main goal is to build a product recommendation engine that suggests items to customers based on their behavior, leading to increased sales and customer engagement. You'll be building a system that can be deployed within a company"
      ],
      "metadata": {
        "id": "gcwLKTg7SCek"
      }
    },
    {
      "cell_type": "markdown",
      "source": [
        "### Mounting my drive to be able to call the dataset from the rive directly from colab"
      ],
      "metadata": {
        "id": "JqFH92Y3SVuC"
      }
    },
    {
      "cell_type": "code",
      "execution_count": null,
      "metadata": {
        "id": "EGbdq51BRst3"
      },
      "outputs": [],
      "source": [
        "from google.colab import drive\n",
        "drive.mount('/content/drive')"
      ]
    }
  ]
}